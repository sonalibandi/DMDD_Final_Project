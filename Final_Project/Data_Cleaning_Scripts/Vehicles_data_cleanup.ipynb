{
 "cells": [
  {
   "cell_type": "code",
   "execution_count": 16,
   "id": "c1f7a0e5-c85a-46f4-b15d-def48db854ce",
   "metadata": {},
   "outputs": [],
   "source": [
    "import pandas as pd"
   ]
  },
  {
   "cell_type": "code",
   "execution_count": 17,
   "id": "2eff6925-0342-4259-a0d1-a328666b03a0",
   "metadata": {},
   "outputs": [],
   "source": [
    "df=pd.read_csv('/Users/sonalibandi/Desktop/Raw_Data/vehicles_table.csv', dtype={'Name': 'str', 'CrashName': 'str', 'Sex': 'str', 'Age': 'int', 'VehicleDamage': 'str', 'PartyCategory': 'str', 'Sobriety': 'str', 'VehicleDirection': 'str', 'MovementPrecedingCollision': 'str', 'ViolationCode': 'str'})"
   ]
  },
  {
   "cell_type": "code",
   "execution_count": 18,
   "id": "c350a1c4-589a-4b20-abca-19cd44694327",
   "metadata": {},
   "outputs": [],
   "source": [
    "col_names = ['Name','CrashName', 'Sex', 'Age', 'VehicleDamage', 'PartyCategory', 'Sobriety', 'VehicleDirection', 'MovementPrecedingCollision', 'ViolationCode']\n",
    "# df = pd.read_csv('/Users/sonalibandi/Desktop/Raw_Data/vehicles_table.csv', header=None, names=col_names, dtype={'Name': 'str', 'CrashName': 'str', 'Sex': 'str', 'Age': 'int', 'VehicleDamage': 'str', 'PartyCategory': 'str', 'Sobriety': 'str', 'VehicleDirection': 'str', 'MovementPrecedingCollision': 'str', 'ViolationCode': 'str'} )"
   ]
  },
  {
   "cell_type": "code",
   "execution_count": 19,
   "id": "6392c697-437e-4fdb-9d03-dcc274f0de46",
   "metadata": {},
   "outputs": [],
   "source": [
    "df.Age = pd.to_numeric(df.Age, errors='coerce').astype(int)"
   ]
  },
  {
   "cell_type": "code",
   "execution_count": 20,
   "id": "01780765-98ad-401d-b803-8e69e132da4d",
   "metadata": {},
   "outputs": [
    {
     "data": {
      "text/html": [
       "<div>\n",
       "<style scoped>\n",
       "    .dataframe tbody tr th:only-of-type {\n",
       "        vertical-align: middle;\n",
       "    }\n",
       "\n",
       "    .dataframe tbody tr th {\n",
       "        vertical-align: top;\n",
       "    }\n",
       "\n",
       "    .dataframe thead th {\n",
       "        text-align: right;\n",
       "    }\n",
       "</style>\n",
       "<table border=\"1\" class=\"dataframe\">\n",
       "  <thead>\n",
       "    <tr style=\"text-align: right;\">\n",
       "      <th></th>\n",
       "      <th>Name</th>\n",
       "      <th>CrashName</th>\n",
       "      <th>Sex</th>\n",
       "      <th>Age</th>\n",
       "      <th>VehicleDamage</th>\n",
       "      <th>PartyCategory</th>\n",
       "      <th>Sobriety</th>\n",
       "      <th>VehicleDirection</th>\n",
       "      <th>MovementPrecedingCollision</th>\n",
       "    </tr>\n",
       "  </thead>\n",
       "  <tbody>\n",
       "    <tr>\n",
       "      <th>0</th>\n",
       "      <td>ACV-0000174389</td>\n",
       "      <td>CR-0000085197</td>\n",
       "      <td>M</td>\n",
       "      <td>33</td>\n",
       "      <td>Unknown</td>\n",
       "      <td>Driver</td>\n",
       "      <td>Impairment Not Known</td>\n",
       "      <td>West</td>\n",
       "      <td>Stopped</td>\n",
       "    </tr>\n",
       "    <tr>\n",
       "      <th>1</th>\n",
       "      <td>ACV-0000174390</td>\n",
       "      <td>CR-0000085197</td>\n",
       "      <td>NaN</td>\n",
       "      <td>0</td>\n",
       "      <td>Unknown</td>\n",
       "      <td>Driver</td>\n",
       "      <td>Impairment Not Known</td>\n",
       "      <td>West</td>\n",
       "      <td>Making Right Turn</td>\n",
       "    </tr>\n",
       "    <tr>\n",
       "      <th>2</th>\n",
       "      <td>ACV-0000174429</td>\n",
       "      <td>CR-0000085218</td>\n",
       "      <td>M</td>\n",
       "      <td>19</td>\n",
       "      <td>Major</td>\n",
       "      <td>Driver</td>\n",
       "      <td>Had Not Been Drinking</td>\n",
       "      <td>East</td>\n",
       "      <td>Proceeding Straight</td>\n",
       "    </tr>\n",
       "    <tr>\n",
       "      <th>3</th>\n",
       "      <td>ACV-0000174430</td>\n",
       "      <td>CR-0000085218</td>\n",
       "      <td>NaN</td>\n",
       "      <td>0</td>\n",
       "      <td>Moderate</td>\n",
       "      <td>Parked</td>\n",
       "      <td>Not Applicable</td>\n",
       "      <td>Not Applicable</td>\n",
       "      <td>Parked</td>\n",
       "    </tr>\n",
       "    <tr>\n",
       "      <th>4</th>\n",
       "      <td>ACV-0000174431</td>\n",
       "      <td>CR-0000085218</td>\n",
       "      <td>NaN</td>\n",
       "      <td>0</td>\n",
       "      <td>Moderate</td>\n",
       "      <td>Parked</td>\n",
       "      <td>Not Applicable</td>\n",
       "      <td>Not Applicable</td>\n",
       "      <td>Parked</td>\n",
       "    </tr>\n",
       "    <tr>\n",
       "      <th>...</th>\n",
       "      <td>...</td>\n",
       "      <td>...</td>\n",
       "      <td>...</td>\n",
       "      <td>...</td>\n",
       "      <td>...</td>\n",
       "      <td>...</td>\n",
       "      <td>...</td>\n",
       "      <td>...</td>\n",
       "      <td>...</td>\n",
       "    </tr>\n",
       "    <tr>\n",
       "      <th>131910</th>\n",
       "      <td>ACV-0000175866</td>\n",
       "      <td>CR-0000085938</td>\n",
       "      <td>NaN</td>\n",
       "      <td>0</td>\n",
       "      <td>Minor</td>\n",
       "      <td>Parked</td>\n",
       "      <td>Not Applicable</td>\n",
       "      <td>Not Applicable</td>\n",
       "      <td>Parked</td>\n",
       "    </tr>\n",
       "    <tr>\n",
       "      <th>131911</th>\n",
       "      <td>ACV-0000175865</td>\n",
       "      <td>CR-0000085938</td>\n",
       "      <td>M</td>\n",
       "      <td>28</td>\n",
       "      <td>Minor</td>\n",
       "      <td>Driver</td>\n",
       "      <td>Had Not Been Drinking</td>\n",
       "      <td>West</td>\n",
       "      <td>Backing</td>\n",
       "    </tr>\n",
       "    <tr>\n",
       "      <th>131912</th>\n",
       "      <td>ACV-0000175868</td>\n",
       "      <td>CR-0000085939</td>\n",
       "      <td>M</td>\n",
       "      <td>35</td>\n",
       "      <td>Moderate</td>\n",
       "      <td>Driver</td>\n",
       "      <td>Impairment Not Known</td>\n",
       "      <td>West</td>\n",
       "      <td>Passing Other Vehicles</td>\n",
       "    </tr>\n",
       "    <tr>\n",
       "      <th>131913</th>\n",
       "      <td>ACV-0000178306</td>\n",
       "      <td>CR-0000087195</td>\n",
       "      <td>F</td>\n",
       "      <td>58</td>\n",
       "      <td>Unknown</td>\n",
       "      <td>Driver</td>\n",
       "      <td>Impairment Not Known</td>\n",
       "      <td>North</td>\n",
       "      <td>Making Left Turn</td>\n",
       "    </tr>\n",
       "    <tr>\n",
       "      <th>131914</th>\n",
       "      <td>ACV-0000178305</td>\n",
       "      <td>CR-0000087195</td>\n",
       "      <td>M</td>\n",
       "      <td>29</td>\n",
       "      <td>Unknown</td>\n",
       "      <td>Driver</td>\n",
       "      <td>Impairment Not Known</td>\n",
       "      <td>North</td>\n",
       "      <td>Ran Off Road</td>\n",
       "    </tr>\n",
       "  </tbody>\n",
       "</table>\n",
       "<p>131915 rows × 9 columns</p>\n",
       "</div>"
      ],
      "text/plain": [
       "                  Name      CrashName  Sex  Age VehicleDamage PartyCategory  \\\n",
       "0       ACV-0000174389  CR-0000085197    M   33       Unknown        Driver   \n",
       "1       ACV-0000174390  CR-0000085197  NaN    0       Unknown        Driver   \n",
       "2       ACV-0000174429  CR-0000085218    M   19         Major        Driver   \n",
       "3       ACV-0000174430  CR-0000085218  NaN    0      Moderate        Parked   \n",
       "4       ACV-0000174431  CR-0000085218  NaN    0      Moderate        Parked   \n",
       "...                ...            ...  ...  ...           ...           ...   \n",
       "131910  ACV-0000175866  CR-0000085938  NaN    0         Minor        Parked   \n",
       "131911  ACV-0000175865  CR-0000085938    M   28         Minor        Driver   \n",
       "131912  ACV-0000175868  CR-0000085939    M   35      Moderate        Driver   \n",
       "131913  ACV-0000178306  CR-0000087195    F   58       Unknown        Driver   \n",
       "131914  ACV-0000178305  CR-0000087195    M   29       Unknown        Driver   \n",
       "\n",
       "                     Sobriety VehicleDirection MovementPrecedingCollision  \n",
       "0        Impairment Not Known             West                    Stopped  \n",
       "1        Impairment Not Known             West          Making Right Turn  \n",
       "2       Had Not Been Drinking             East        Proceeding Straight  \n",
       "3              Not Applicable   Not Applicable                     Parked  \n",
       "4              Not Applicable   Not Applicable                     Parked  \n",
       "...                       ...              ...                        ...  \n",
       "131910         Not Applicable   Not Applicable                     Parked  \n",
       "131911  Had Not Been Drinking             West                    Backing  \n",
       "131912   Impairment Not Known             West     Passing Other Vehicles  \n",
       "131913   Impairment Not Known            North           Making Left Turn  \n",
       "131914   Impairment Not Known            North               Ran Off Road  \n",
       "\n",
       "[131915 rows x 9 columns]"
      ]
     },
     "execution_count": 20,
     "metadata": {},
     "output_type": "execute_result"
    }
   ],
   "source": [
    "df"
   ]
  },
  {
   "cell_type": "code",
   "execution_count": 21,
   "id": "8a3a1e3d-7306-473b-b860-6dad667ba5bb",
   "metadata": {},
   "outputs": [],
   "source": [
    "mean_value=df['Age'].mean()"
   ]
  },
  {
   "cell_type": "code",
   "execution_count": 22,
   "id": "5401456e-6282-4a3b-88a8-7d40d1b1428e",
   "metadata": {},
   "outputs": [
    {
     "data": {
      "text/plain": [
       "26.402478868968654"
      ]
     },
     "execution_count": 22,
     "metadata": {},
     "output_type": "execute_result"
    }
   ],
   "source": [
    "mean_value"
   ]
  },
  {
   "cell_type": "code",
   "execution_count": 23,
   "id": "625e2cc8-a5c6-4d56-8418-a6e2a99cc78a",
   "metadata": {},
   "outputs": [
    {
     "data": {
      "text/plain": [
       "26"
      ]
     },
     "execution_count": 23,
     "metadata": {},
     "output_type": "execute_result"
    }
   ],
   "source": [
    "mean_value = int(mean_value)\n",
    "mean_value"
   ]
  },
  {
   "cell_type": "code",
   "execution_count": 24,
   "id": "589941fb-05ef-415b-b405-6af2624068ce",
   "metadata": {},
   "outputs": [],
   "source": [
    "df['Age'] = df['Age'].replace(0,mean_value)"
   ]
  },
  {
   "cell_type": "code",
   "execution_count": 25,
   "id": "cb925012-6060-4880-bd7b-a11a4d47f788",
   "metadata": {},
   "outputs": [
    {
     "data": {
      "text/html": [
       "<div>\n",
       "<style scoped>\n",
       "    .dataframe tbody tr th:only-of-type {\n",
       "        vertical-align: middle;\n",
       "    }\n",
       "\n",
       "    .dataframe tbody tr th {\n",
       "        vertical-align: top;\n",
       "    }\n",
       "\n",
       "    .dataframe thead th {\n",
       "        text-align: right;\n",
       "    }\n",
       "</style>\n",
       "<table border=\"1\" class=\"dataframe\">\n",
       "  <thead>\n",
       "    <tr style=\"text-align: right;\">\n",
       "      <th></th>\n",
       "      <th>Name</th>\n",
       "      <th>CrashName</th>\n",
       "      <th>Sex</th>\n",
       "      <th>Age</th>\n",
       "      <th>VehicleDamage</th>\n",
       "      <th>PartyCategory</th>\n",
       "      <th>Sobriety</th>\n",
       "      <th>VehicleDirection</th>\n",
       "      <th>MovementPrecedingCollision</th>\n",
       "    </tr>\n",
       "  </thead>\n",
       "  <tbody>\n",
       "    <tr>\n",
       "      <th>0</th>\n",
       "      <td>ACV-0000174389</td>\n",
       "      <td>CR-0000085197</td>\n",
       "      <td>M</td>\n",
       "      <td>33</td>\n",
       "      <td>Unknown</td>\n",
       "      <td>Driver</td>\n",
       "      <td>Impairment Not Known</td>\n",
       "      <td>West</td>\n",
       "      <td>Stopped</td>\n",
       "    </tr>\n",
       "    <tr>\n",
       "      <th>1</th>\n",
       "      <td>ACV-0000174390</td>\n",
       "      <td>CR-0000085197</td>\n",
       "      <td>NaN</td>\n",
       "      <td>26</td>\n",
       "      <td>Unknown</td>\n",
       "      <td>Driver</td>\n",
       "      <td>Impairment Not Known</td>\n",
       "      <td>West</td>\n",
       "      <td>Making Right Turn</td>\n",
       "    </tr>\n",
       "    <tr>\n",
       "      <th>2</th>\n",
       "      <td>ACV-0000174429</td>\n",
       "      <td>CR-0000085218</td>\n",
       "      <td>M</td>\n",
       "      <td>19</td>\n",
       "      <td>Major</td>\n",
       "      <td>Driver</td>\n",
       "      <td>Had Not Been Drinking</td>\n",
       "      <td>East</td>\n",
       "      <td>Proceeding Straight</td>\n",
       "    </tr>\n",
       "    <tr>\n",
       "      <th>3</th>\n",
       "      <td>ACV-0000174430</td>\n",
       "      <td>CR-0000085218</td>\n",
       "      <td>NaN</td>\n",
       "      <td>26</td>\n",
       "      <td>Moderate</td>\n",
       "      <td>Parked</td>\n",
       "      <td>Not Applicable</td>\n",
       "      <td>Not Applicable</td>\n",
       "      <td>Parked</td>\n",
       "    </tr>\n",
       "    <tr>\n",
       "      <th>4</th>\n",
       "      <td>ACV-0000174431</td>\n",
       "      <td>CR-0000085218</td>\n",
       "      <td>NaN</td>\n",
       "      <td>26</td>\n",
       "      <td>Moderate</td>\n",
       "      <td>Parked</td>\n",
       "      <td>Not Applicable</td>\n",
       "      <td>Not Applicable</td>\n",
       "      <td>Parked</td>\n",
       "    </tr>\n",
       "    <tr>\n",
       "      <th>...</th>\n",
       "      <td>...</td>\n",
       "      <td>...</td>\n",
       "      <td>...</td>\n",
       "      <td>...</td>\n",
       "      <td>...</td>\n",
       "      <td>...</td>\n",
       "      <td>...</td>\n",
       "      <td>...</td>\n",
       "      <td>...</td>\n",
       "    </tr>\n",
       "    <tr>\n",
       "      <th>131910</th>\n",
       "      <td>ACV-0000175866</td>\n",
       "      <td>CR-0000085938</td>\n",
       "      <td>NaN</td>\n",
       "      <td>26</td>\n",
       "      <td>Minor</td>\n",
       "      <td>Parked</td>\n",
       "      <td>Not Applicable</td>\n",
       "      <td>Not Applicable</td>\n",
       "      <td>Parked</td>\n",
       "    </tr>\n",
       "    <tr>\n",
       "      <th>131911</th>\n",
       "      <td>ACV-0000175865</td>\n",
       "      <td>CR-0000085938</td>\n",
       "      <td>M</td>\n",
       "      <td>28</td>\n",
       "      <td>Minor</td>\n",
       "      <td>Driver</td>\n",
       "      <td>Had Not Been Drinking</td>\n",
       "      <td>West</td>\n",
       "      <td>Backing</td>\n",
       "    </tr>\n",
       "    <tr>\n",
       "      <th>131912</th>\n",
       "      <td>ACV-0000175868</td>\n",
       "      <td>CR-0000085939</td>\n",
       "      <td>M</td>\n",
       "      <td>35</td>\n",
       "      <td>Moderate</td>\n",
       "      <td>Driver</td>\n",
       "      <td>Impairment Not Known</td>\n",
       "      <td>West</td>\n",
       "      <td>Passing Other Vehicles</td>\n",
       "    </tr>\n",
       "    <tr>\n",
       "      <th>131913</th>\n",
       "      <td>ACV-0000178306</td>\n",
       "      <td>CR-0000087195</td>\n",
       "      <td>F</td>\n",
       "      <td>58</td>\n",
       "      <td>Unknown</td>\n",
       "      <td>Driver</td>\n",
       "      <td>Impairment Not Known</td>\n",
       "      <td>North</td>\n",
       "      <td>Making Left Turn</td>\n",
       "    </tr>\n",
       "    <tr>\n",
       "      <th>131914</th>\n",
       "      <td>ACV-0000178305</td>\n",
       "      <td>CR-0000087195</td>\n",
       "      <td>M</td>\n",
       "      <td>29</td>\n",
       "      <td>Unknown</td>\n",
       "      <td>Driver</td>\n",
       "      <td>Impairment Not Known</td>\n",
       "      <td>North</td>\n",
       "      <td>Ran Off Road</td>\n",
       "    </tr>\n",
       "  </tbody>\n",
       "</table>\n",
       "<p>131915 rows × 9 columns</p>\n",
       "</div>"
      ],
      "text/plain": [
       "                  Name      CrashName  Sex  Age VehicleDamage PartyCategory  \\\n",
       "0       ACV-0000174389  CR-0000085197    M   33       Unknown        Driver   \n",
       "1       ACV-0000174390  CR-0000085197  NaN   26       Unknown        Driver   \n",
       "2       ACV-0000174429  CR-0000085218    M   19         Major        Driver   \n",
       "3       ACV-0000174430  CR-0000085218  NaN   26      Moderate        Parked   \n",
       "4       ACV-0000174431  CR-0000085218  NaN   26      Moderate        Parked   \n",
       "...                ...            ...  ...  ...           ...           ...   \n",
       "131910  ACV-0000175866  CR-0000085938  NaN   26         Minor        Parked   \n",
       "131911  ACV-0000175865  CR-0000085938    M   28         Minor        Driver   \n",
       "131912  ACV-0000175868  CR-0000085939    M   35      Moderate        Driver   \n",
       "131913  ACV-0000178306  CR-0000087195    F   58       Unknown        Driver   \n",
       "131914  ACV-0000178305  CR-0000087195    M   29       Unknown        Driver   \n",
       "\n",
       "                     Sobriety VehicleDirection MovementPrecedingCollision  \n",
       "0        Impairment Not Known             West                    Stopped  \n",
       "1        Impairment Not Known             West          Making Right Turn  \n",
       "2       Had Not Been Drinking             East        Proceeding Straight  \n",
       "3              Not Applicable   Not Applicable                     Parked  \n",
       "4              Not Applicable   Not Applicable                     Parked  \n",
       "...                       ...              ...                        ...  \n",
       "131910         Not Applicable   Not Applicable                     Parked  \n",
       "131911  Had Not Been Drinking             West                    Backing  \n",
       "131912   Impairment Not Known             West     Passing Other Vehicles  \n",
       "131913   Impairment Not Known            North           Making Left Turn  \n",
       "131914   Impairment Not Known            North               Ran Off Road  \n",
       "\n",
       "[131915 rows x 9 columns]"
      ]
     },
     "execution_count": 25,
     "metadata": {},
     "output_type": "execute_result"
    }
   ],
   "source": [
    "df"
   ]
  },
  {
   "cell_type": "code",
   "execution_count": 26,
   "id": "326c1a9c-cc6e-48f4-9067-ba3770969100",
   "metadata": {},
   "outputs": [],
   "source": [
    "df.to_csv('/Users/sonalibandi/Documents/DMDD/v.csv',index=True)"
   ]
  },
  {
   "cell_type": "code",
   "execution_count": null,
   "id": "bdafe041-15fa-4ac8-b1d2-25bae54aff14",
   "metadata": {},
   "outputs": [],
   "source": [
    "df=pd.read_csv('/Users/sonalibandi/Documents/DMDD/vehicleage.csv', dtype={'Name': 'str', 'CrashName': 'str', 'Sex': 'str', 'Age': 'int', 'VehicleDamage': 'str', 'PartyCategory': 'str', 'Sobriety': 'str', 'VehicleDirection': 'str', 'MovementPrecedingCollision': 'str'})\n",
    "\n"
   ]
  },
  {
   "cell_type": "code",
   "execution_count": null,
   "id": "3a87f11e-25f1-4ee8-8370-2df9aaf45b80",
   "metadata": {},
   "outputs": [],
   "source": [
    "col_names = ['Name','CrashName', 'Sex', 'Age', 'VehicleDamage', 'PartyCategory', 'Sobriety', 'VehicleDirection', 'MovementPrecedingCollision']\n",
    "df = pd.read_csv('/Users/sonalibandi/Documents/DMDD/vehicleage.csv', header=None, names=col_names, dtype={'Name': 'str', 'CrashName': 'str', 'Sex': 'str', 'Age': 'int', 'VehicleDamage': 'str', 'PartyCategory': 'str', 'Sobriety': 'str', 'VehicleDirection': 'str', 'MovementPrecedingCollision': 'str'} )"
   ]
  },
  {
   "cell_type": "code",
   "execution_count": null,
   "id": "f3bc5e23-b805-4cea-9c40-4ebb3cf08b61",
   "metadata": {},
   "outputs": [],
   "source": [
    "df.Age = pd.to_numeric(df.Age, errors='coerce').astype(int)"
   ]
  },
  {
   "cell_type": "code",
   "execution_count": null,
   "id": "10a51a26-7c6c-4a39-9633-5d2743fac5a0",
   "metadata": {},
   "outputs": [],
   "source": [
    "df['Age'] = df['Age'].mask(df['Age'] < 18, mean_value)\n",
    "df"
   ]
  },
  {
   "cell_type": "code",
   "execution_count": null,
   "id": "1149a322-a3e6-4fcd-9cc1-b71e4d01feb1",
   "metadata": {},
   "outputs": [],
   "source": [
    "df.to_csv('/Users/sonalibandi/Documents/DMDD/vehicles_5.csv',index=True)"
   ]
  },
  {
   "cell_type": "code",
   "execution_count": null,
   "id": "b3033937-85ba-47a5-919f-91302039bbb8",
   "metadata": {},
   "outputs": [],
   "source": [
    "col_names = ['Name','CrashName', 'Sex', 'Age', 'VehicleDamage', 'PartyCategory', 'Sobriety', 'VehicleDirection', 'MovementPrecedingCollision',  'ViolationCode']\n",
    "df = pd.read_csv('/Users/sonalibandi/Documents/DMDD/vehicles_5.csv', header=None, names=col_names, dtype={'Name': 'str', 'CrashName': 'str', 'Sex': 'str', 'Age': 'str', 'VehicleDamage': 'str', 'PartyCategory': 'str', 'Sobriety': 'str', 'VehicleDirection': 'str', 'MovementPrecedingCollision': 'str',  'ViolationCode': 'str'} )"
   ]
  },
  {
   "cell_type": "code",
   "execution_count": null,
   "id": "74ad4b5f-5eaa-47c9-89bd-294f9cc8fa3d",
   "metadata": {},
   "outputs": [],
   "source": [
    "df = df.drop(df.index[df['ViolationCode'] == 'Unknown'])\n",
    "df"
   ]
  },
  {
   "cell_type": "code",
   "execution_count": null,
   "id": "c39b80ee-6a3d-4b72-8afe-b8fe28d007b8",
   "metadata": {},
   "outputs": [],
   "source": [
    "df.to_csv('/Users/sonalibandi/Documents/DMDD/vehicles_6.csv',index=True)"
   ]
  },
  {
   "cell_type": "code",
   "execution_count": null,
   "id": "cc7ce050-6076-44d5-b0c1-4d60346c44cd",
   "metadata": {},
   "outputs": [],
   "source": [
    "col_names = ['Name','CrashName', 'Sex', 'Age', 'VehicleDamage', 'PartyCategory', 'Sobriety', 'VehicleDirection', 'MovementPrecedingCollision',  'ViolationCode']\n",
    "df = pd.read_csv('/Users/sonalibandi/Documents/DMDD/vehicles_6.csv', header=None, names=col_names, dtype={'Name': 'str', 'CrashName': 'str', 'Sex': 'str', 'Age': 'str', 'VehicleDamage': 'str', 'PartyCategory': 'str', 'Sobriety': 'str', 'VehicleDirection': 'str', 'MovementPrecedingCollision': 'str',  'ViolationCode': 'str'} )"
   ]
  },
  {
   "cell_type": "code",
   "execution_count": null,
   "id": "405719a7-5e96-4f47-a4e0-35c0e17707bf",
   "metadata": {},
   "outputs": [],
   "source": [
    "df = df.drop(df.index[df['VehicleDamage'] == 'Unknown'])\n",
    "df"
   ]
  },
  {
   "cell_type": "code",
   "execution_count": null,
   "id": "ebfc2a9f-d619-4f38-912f-e6dabf962983",
   "metadata": {},
   "outputs": [],
   "source": [
    "df.to_csv('/Users/sonalibandi/Documents/DMDD/vehicles_7.csv',index=True)"
   ]
  },
  {
   "cell_type": "code",
   "execution_count": null,
   "id": "3a3aa077-a086-419c-8524-53088b271f4a",
   "metadata": {},
   "outputs": [],
   "source": [
    "col_names = ['Name','CrashName', 'Sex', 'Age', 'VehicleDamage', 'PartyCategory', 'Sobriety', 'VehicleDirection', 'MovementPrecedingCollision',  'ViolationCode']\n",
    "df = pd.read_csv('/Users/sonalibandi/Documents/DMDD/vehicles_7.csv', header=None, names=col_names, dtype={'Name': 'str', 'CrashName': 'str', 'Sex': 'str', 'Age': 'str', 'VehicleDamage': 'str', 'PartyCategory': 'str', 'Sobriety': 'str', 'VehicleDirection': 'str', 'MovementPrecedingCollision': 'str',  'ViolationCode': 'str'} )"
   ]
  },
  {
   "cell_type": "code",
   "execution_count": null,
   "id": "ddb43ea5-32a8-438e-9bd0-925b3da03361",
   "metadata": {},
   "outputs": [],
   "source": [
    "df = df.drop(df.index[df['PartyCategory'] == 'Unknown'])\n",
    "df"
   ]
  },
  {
   "cell_type": "code",
   "execution_count": null,
   "id": "f881dfd0-6e69-4a71-8b5f-d52ac71d8871",
   "metadata": {},
   "outputs": [],
   "source": [
    "df.to_csv('/Users/sonalibandi/Documents/DMDD/vehicles_8.csv',index=True)"
   ]
  },
  {
   "cell_type": "code",
   "execution_count": null,
   "id": "9b7e6d25-e523-4ac7-a014-b4d1c83c12e5",
   "metadata": {},
   "outputs": [],
   "source": [
    "col_names = ['Name','CrashName', 'Sex', 'Age', 'VehicleDamage', 'PartyCategory', 'Sobriety', 'VehicleDirection', 'MovementPrecedingCollision',  'ViolationCode']\n",
    "df = pd.read_csv('/Users/sonalibandi/Documents/DMDD/vehicles_8.csv', header=None, names=col_names, dtype={'Name': 'str', 'CrashName': 'str', 'Sex': 'str', 'Age': 'str', 'VehicleDamage': 'str', 'PartyCategory': 'str', 'Sobriety': 'str', 'VehicleDirection': 'str', 'MovementPrecedingCollision': 'str',  'ViolationCode': 'str'} )"
   ]
  },
  {
   "cell_type": "code",
   "execution_count": null,
   "id": "ea1a1802-1468-4de2-a9d5-bedb8a6f94da",
   "metadata": {},
   "outputs": [],
   "source": [
    "df = df.drop(df.index[df['VehicleDirection'] == 'Unknown'])\n",
    "df"
   ]
  },
  {
   "cell_type": "code",
   "execution_count": null,
   "id": "efea22bb-b051-411c-87ef-4ea6ee04efdc",
   "metadata": {},
   "outputs": [],
   "source": [
    "df.to_csv('/Users/sonalibandi/Documents/DMDD/vehicles_9.csv',index=True)"
   ]
  },
  {
   "cell_type": "code",
   "execution_count": null,
   "id": "88f7a3f0-bab2-41fc-bc4f-f52da118886a",
   "metadata": {},
   "outputs": [],
   "source": [
    "col_names = ['Name','CrashName', 'Sex', 'Age', 'VehicleDamage', 'PartyCategory', 'Sobriety', 'VehicleDirection', 'MovementPrecedingCollision',  'ViolationCode']\n",
    "df = pd.read_csv('/Users/sonalibandi/Documents/DMDD/vehicles_9.csv', header=None, names=col_names, dtype={'Name': 'str', 'CrashName': 'str', 'Sex': 'str', 'Age': 'str', 'VehicleDamage': 'str', 'PartyCategory': 'str', 'Sobriety': 'str', 'VehicleDirection': 'str', 'MovementPrecedingCollision': 'str',  'ViolationCode': 'str'} )"
   ]
  },
  {
   "cell_type": "code",
   "execution_count": null,
   "id": "5da1e003-e7d0-4cf0-8fe2-bf811fdf0146",
   "metadata": {},
   "outputs": [],
   "source": [
    "df = df.drop(df.index[df['MovementPrecedingCollision'] == 'Unknown'])\n",
    "df"
   ]
  },
  {
   "cell_type": "code",
   "execution_count": null,
   "id": "f549db89-d67d-4a23-bf67-3fa07aa3ea7c",
   "metadata": {},
   "outputs": [],
   "source": [
    "df.to_csv('/Users/sonalibandi/Documents/DMDD/vehicles_10.csv',index=True)"
   ]
  },
  {
   "cell_type": "code",
   "execution_count": null,
   "id": "3f2a6db4-9267-44b6-bd5c-0add5ad64f65",
   "metadata": {},
   "outputs": [],
   "source": [
    "col_names = ['Name','CrashName', 'Sex', 'Age', 'VehicleDamage', 'PartyCategory', 'Sobriety', 'VehicleDirection', 'MovementPrecedingCollision',  'ViolationCode']\n",
    "df = pd.read_csv('/Users/sonalibandi/Documents/DMDD/vehicles_10.csv', header=None, names=col_names, dtype={'Name': 'str', 'CrashName': 'str', 'Sex': 'str', 'Age': 'str', 'VehicleDamage': 'str', 'PartyCategory': 'str', 'Sobriety': 'str', 'VehicleDirection': 'str', 'MovementPrecedingCollision': 'str',  'ViolationCode': 'str'} )"
   ]
  },
  {
   "cell_type": "code",
   "execution_count": null,
   "id": "5efecc52-f644-43cd-a4d1-8e04cbeb7208",
   "metadata": {},
   "outputs": [],
   "source": [
    "df = df.drop(df.index[df['Sobriety'] == 'Not Applicable'])\n",
    "df"
   ]
  },
  {
   "cell_type": "code",
   "execution_count": null,
   "id": "41a90e4a-101e-4cd7-abf3-5dde987d415a",
   "metadata": {},
   "outputs": [],
   "source": [
    "df.to_csv('/Users/sonalibandi/Documents/DMDD/vehicles_11.csv',index=True)"
   ]
  },
  {
   "cell_type": "code",
   "execution_count": null,
   "id": "97a765cc-1168-4d98-bdaf-51bc19ecb0b9",
   "metadata": {},
   "outputs": [],
   "source": [
    "col_names = ['Name','CrashName', 'Sex', 'Age', 'VehicleDamage', 'PartyCategory', 'Sobriety', 'VehicleDirection', 'MovementPrecedingCollision',  'ViolationCode']\n",
    "df = pd.read_csv('/Users/sonalibandi/Documents/DMDD/vehicles_11.csv', header=None, names=col_names, dtype={'Name': 'str', 'CrashName': 'str', 'Sex': 'str', 'Age': 'str', 'VehicleDamage': 'str', 'PartyCategory': 'str', 'Sobriety': 'str', 'VehicleDirection': 'str', 'MovementPrecedingCollision': 'str',  'ViolationCode': 'str'} )"
   ]
  },
  {
   "cell_type": "code",
   "execution_count": null,
   "id": "d6106f9d-77a8-45b5-997a-9b8b39541f2d",
   "metadata": {},
   "outputs": [],
   "source": [
    "df = df.drop(df.index[df['MovementPrecedingCollision'] == 'Other'])\n",
    "df"
   ]
  },
  {
   "cell_type": "code",
   "execution_count": null,
   "id": "e1dca034-49e3-4a94-a1a3-d8328e3833a4",
   "metadata": {},
   "outputs": [],
   "source": [
    "df.to_csv('/Users/sonalibandi/Documents/DMDD/vehicles_12.csv',index=True)"
   ]
  },
  {
   "cell_type": "code",
   "execution_count": null,
   "id": "76e0bc58-d3b3-4fbb-a467-40f619b38149",
   "metadata": {},
   "outputs": [],
   "source": [
    "col_names = ['Name','CrashName', 'Sex', 'Age', 'VehicleDamage', 'PartyCategory', 'Sobriety', 'VehicleDirection', 'MovementPrecedingCollision',  'ViolationCode']\n",
    "df = pd.read_csv('/Users/sonalibandi/Documents/DMDD/vehicles_12.csv', header=None, names=col_names, dtype={'Name': 'str', 'CrashName': 'str', 'Sex': 'str', 'Age': 'str', 'VehicleDamage': 'str', 'PartyCategory': 'str', 'Sobriety': 'str', 'VehicleDirection': 'str', 'MovementPrecedingCollision': 'str',  'ViolationCode': 'str'} )"
   ]
  },
  {
   "cell_type": "code",
   "execution_count": null,
   "id": "e897429c-e2d2-4501-9423-c0a3120f433d",
   "metadata": {},
   "outputs": [],
   "source": [
    "df = df.drop(df.index[df['VehicleDamage'] == 'None'])\n",
    "df"
   ]
  },
  {
   "cell_type": "code",
   "execution_count": null,
   "id": "3c4a3d06-977b-4379-a233-bfacc393c413",
   "metadata": {},
   "outputs": [],
   "source": [
    "df.to_csv('/Users/sonalibandi/Documents/DMDD/vehicles_13.csv',index=True)"
   ]
  },
  {
   "cell_type": "code",
   "execution_count": null,
   "id": "d682065b-3418-4e50-a199-1d89336bd788",
   "metadata": {},
   "outputs": [],
   "source": [
    "col_names = ['Name','CrashName', 'Sex', 'Age', 'VehicleDamage', 'PartyCategory', 'Sobriety', 'VehicleDirection', 'MovementPrecedingCollision',  'ViolationCode']\n",
    "df = pd.read_csv('/Users/sonalibandi/Documents/DMDD/vehicles_13.csv', header=None, names=col_names, dtype={'Name': 'str', 'CrashName': 'str', 'Sex': 'str', 'Age': 'str', 'VehicleDamage': 'str', 'PartyCategory': 'str', 'Sobriety': 'str', 'VehicleDirection': 'str', 'MovementPrecedingCollision': 'str',  'ViolationCode': 'str'} )"
   ]
  },
  {
   "cell_type": "code",
   "execution_count": null,
   "id": "caf1dc84-1211-454b-a035-655bad75c3e4",
   "metadata": {},
   "outputs": [],
   "source": [
    "df = df.drop(df.index[df['PartyCategory'] == 'Other'])\n",
    "df"
   ]
  },
  {
   "cell_type": "code",
   "execution_count": null,
   "id": "31c50930-6314-4974-9aeb-2c88b5303353",
   "metadata": {},
   "outputs": [],
   "source": [
    "df.to_csv('/Users/sonalibandi/Documents/DMDD/vehicles_12.csv',index=True)"
   ]
  },
  {
   "cell_type": "code",
   "execution_count": null,
   "id": "094121bc-69be-4076-b471-1c8d33559b2a",
   "metadata": {},
   "outputs": [],
   "source": [
    "col_names = ['Name','CrashName', 'Sex', 'Age', 'VehicleDamage', 'PartyCategory', 'Sobriety', 'VehicleDirection', 'MovementPrecedingCollision',  'ViolationCode']\n",
    "df = pd.read_csv('/Users/sonalibandi/Documents/DMDD/vehicles_12.csv', header=None, names=col_names, dtype={'Name': 'str', 'CrashName': 'str', 'Sex': 'str', 'Age': 'str', 'VehicleDamage': 'str', 'PartyCategory': 'str', 'Sobriety': 'str', 'VehicleDirection': 'str', 'MovementPrecedingCollision': 'str',  'ViolationCode': 'str'} )"
   ]
  },
  {
   "cell_type": "code",
   "execution_count": null,
   "id": "7c7e90b0-702a-486f-88e1-4f70d6224bd5",
   "metadata": {},
   "outputs": [],
   "source": [
    "df = df.drop(df.index[df['VehicleDirection'] == 'Not Applicable'])\n",
    "df"
   ]
  },
  {
   "cell_type": "code",
   "execution_count": null,
   "id": "66acc8fa-a463-4ae4-8733-39b23f2250b6",
   "metadata": {},
   "outputs": [],
   "source": [
    "df.to_csv('/Users/sonalibandi/Documents/DMDD/vehicles_f.csv',index=True)"
   ]
  }
 ],
 "metadata": {
  "kernelspec": {
   "display_name": "Python 3 (ipykernel)",
   "language": "python",
   "name": "python3"
  },
  "language_info": {
   "codemirror_mode": {
    "name": "ipython",
    "version": 3
   },
   "file_extension": ".py",
   "mimetype": "text/x-python",
   "name": "python",
   "nbconvert_exporter": "python",
   "pygments_lexer": "ipython3",
   "version": "3.9.13"
  }
 },
 "nbformat": 4,
 "nbformat_minor": 5
}
