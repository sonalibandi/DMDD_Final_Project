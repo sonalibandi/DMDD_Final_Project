{
 "cells": [
  {
   "cell_type": "code",
   "execution_count": 21,
   "id": "e0cb9b57",
   "metadata": {},
   "outputs": [],
   "source": [
    "import pymysql\n",
    "pymysql.install_as_MySQLdb()\n",
    "import MySQLdb"
   ]
  },
  {
   "cell_type": "code",
   "execution_count": 22,
   "id": "06e6b73b",
   "metadata": {},
   "outputs": [],
   "source": [
    "from venv import create\n",
    "import csv\n",
    "import pandas as pd\n",
    "import os\n",
    "import time\n",
    "import numpy as np"
   ]
  },
  {
   "cell_type": "code",
   "execution_count": 23,
   "id": "7ae45131",
   "metadata": {},
   "outputs": [],
   "source": [
    "import mysql.connector\n",
    "import pandas as pd\n",
    "df = pd.read_csv('/Users/sonalibandi/Documents/DMDD/crashes_final.csv', index_col=False, delimiter = ',' )\n",
    "\n"
   ]
  },
  {
   "cell_type": "code",
   "execution_count": 24,
   "id": "f649f9a4",
   "metadata": {},
   "outputs": [],
   "source": [
    "database = MySQLdb.connect (host=\"localhost\" , user=\"root\" , passwd=\"rootroot\" ,db=\"a1\")\n",
    "cursor = database.cursor()"
   ]
  },
  {
   "cell_type": "code",
   "execution_count": 25,
   "id": "bba19c1e",
   "metadata": {},
   "outputs": [
    {
     "data": {
      "text/plain": [
       "0"
      ]
     },
     "execution_count": 25,
     "metadata": {},
     "output_type": "execute_result"
    }
   ],
   "source": [
    "cursor.execute('DROP TABLE IF EXISTS a1.crashes;')"
   ]
  },
  {
   "cell_type": "code",
   "execution_count": 26,
   "id": "f2f4184f",
   "metadata": {},
   "outputs": [
    {
     "data": {
      "text/plain": [
       "0"
      ]
     },
     "execution_count": 26,
     "metadata": {},
     "output_type": "execute_result"
    }
   ],
   "source": [
    "cursor.execute('CREATE TABLE IF NOT EXISTS a1.crashes(Name varchar(50) primary key , Distance int, PedestrianAction varchar(100), PrimaryCollisionFactor varchar(50), CollisionType varchar(50), ProximityToIntersection varchar(20), VehicleInvolvedWith varchar(50));')"
   ]
  },
  {
   "cell_type": "code",
   "execution_count": 28,
   "id": "7f7d7d44",
   "metadata": {},
   "outputs": [],
   "source": [
    "#df = pd.read_csv('/Users/sonalibandi/Desktop/all_data/final1.csv', header=None, delimiter = ',').fillna('None')\n",
    "\n",
    "# header = next(csv_data)\n",
    "\n",
    "# print(header)\n",
    "# print(df)\n",
    "\n",
    "# print('Importing the CSV Files')\n",
    "\n",
    "for row in df.to_numpy():\n",
    "    #row = [str(x) for x in row]\n",
    "    # print(row)\n",
    "    r = [row[0],row[1],row[2],row[3],row[4],row[5],row[6]]\n",
    "    #print(type(r))\n",
    "    #print('INSERT INTO a1.crashes VALUES (%s,%s,%s,%s,%s,%s,%s,%s)',r)\n",
    "    try:\n",
    "        cursor.execute('INSERT INTO a1.crashes VALUES (%s,%s,%s,%s,%s,%s,%s)',r)\n",
    "    except Exception as e:\n",
    "        pass\n",
    "    \n",
    "    \n",
    "\n",
    "    \n",
    "    \n",
    "#     print(r)\n",
    "#     o = False\n",
    "#     for s in r:\n",
    "#         if len(str(s))==0:\n",
    "#             o = True\n",
    "#         if o:\n",
    "#             continue\n",
    "\n",
    "database.commit()"
   ]
  },
  {
   "cell_type": "code",
   "execution_count": null,
   "id": "0b6a785b-9622-46b6-a7c5-370e41685955",
   "metadata": {},
   "outputs": [],
   "source": []
  }
 ],
 "metadata": {
  "kernelspec": {
   "display_name": "Python 3 (ipykernel)",
   "language": "python",
   "name": "python3"
  },
  "language_info": {
   "codemirror_mode": {
    "name": "ipython",
    "version": 3
   },
   "file_extension": ".py",
   "mimetype": "text/x-python",
   "name": "python",
   "nbconvert_exporter": "python",
   "pygments_lexer": "ipython3",
   "version": "3.9.13"
  }
 },
 "nbformat": 4,
 "nbformat_minor": 5
}
