{
 "cells": [
  {
   "cell_type": "code",
   "execution_count": 3,
   "id": "3d17bb31",
   "metadata": {},
   "outputs": [],
   "source": [
    "#Installs MySQL connector module\n",
    "import pymysql\n",
    "pymysql.install_as_MySQLdb()\n",
    "import MySQLdb"
   ]
  },
  {
   "cell_type": "code",
   "execution_count": 4,
   "id": "b5dd065d",
   "metadata": {},
   "outputs": [],
   "source": [
    "from venv import create\n",
    "import csv\n",
    "import pandas as pd\n",
    "import os\n",
    "import time\n",
    "import numpy as np"
   ]
  },
  {
   "cell_type": "code",
   "execution_count": 6,
   "id": "fd2518ba",
   "metadata": {},
   "outputs": [],
   "source": [
    "#The connect() constructor creates a connection to the MySQL server and returns a MySQLConnection object. \n",
    "import mysql.connector\n",
    "import pandas as pd\n",
    "df = pd.read_csv('/Users/sonalibandi/Documents/DMDD/laws_final.csv', index_col=False, delimiter = ',', encoding = 'unicode_escape' )"
   ]
  },
  {
   "cell_type": "code",
   "execution_count": 7,
   "id": "88d696c0",
   "metadata": {},
   "outputs": [
    {
     "data": {
      "text/html": [
       "<div>\n",
       "<style scoped>\n",
       "    .dataframe tbody tr th:only-of-type {\n",
       "        vertical-align: middle;\n",
       "    }\n",
       "\n",
       "    .dataframe tbody tr th {\n",
       "        vertical-align: top;\n",
       "    }\n",
       "\n",
       "    .dataframe thead th {\n",
       "        text-align: right;\n",
       "    }\n",
       "</style>\n",
       "<table border=\"1\" class=\"dataframe\">\n",
       "  <thead>\n",
       "    <tr style=\"text-align: right;\">\n",
       "      <th></th>\n",
       "      <th>Code</th>\n",
       "      <th>Description</th>\n",
       "    </tr>\n",
       "  </thead>\n",
       "  <tbody>\n",
       "    <tr>\n",
       "      <th>0</th>\n",
       "      <td>21000</td>\n",
       "      <td>Wherever in this division department occur...</td>\n",
       "    </tr>\n",
       "    <tr>\n",
       "      <th>1</th>\n",
       "      <td>21001</td>\n",
       "      <td>The provisions of this division refer exclus...</td>\n",
       "    </tr>\n",
       "    <tr>\n",
       "      <th>2</th>\n",
       "      <td>2105</td>\n",
       "      <td>Every person riding or driving an animal upo...</td>\n",
       "    </tr>\n",
       "    <tr>\n",
       "      <th>3</th>\n",
       "      <td>21051</td>\n",
       "      <td>The following sections apply to trolley coac...</td>\n",
       "    </tr>\n",
       "    <tr>\n",
       "      <th>4</th>\n",
       "      <td>21052</td>\n",
       "      <td>The provisions of this code applicable to th...</td>\n",
       "    </tr>\n",
       "  </tbody>\n",
       "</table>\n",
       "</div>"
      ],
      "text/plain": [
       "    Code                                        Description\n",
       "0  21000    Wherever in this division department occur...\n",
       "1  21001    The provisions of this division refer exclus...\n",
       "2   2105    Every person riding or driving an animal upo...\n",
       "3  21051    The following sections apply to trolley coac...\n",
       "4  21052    The provisions of this code applicable to th..."
      ]
     },
     "execution_count": 7,
     "metadata": {},
     "output_type": "execute_result"
    }
   ],
   "source": [
    "df.head()"
   ]
  },
  {
   "cell_type": "code",
   "execution_count": 5,
   "id": "508e10c7",
   "metadata": {},
   "outputs": [],
   "source": [
    "# Connect\n",
    "database = MySQLdb.connect (host=\"localhost\" , user=\"root\" , passwd=\"rootroot\" ,db=\"Crashes_Table\")\n",
    "cursor = database.cursor()"
   ]
  },
  {
   "cell_type": "code",
   "execution_count": 9,
   "id": "a8e2471e",
   "metadata": {},
   "outputs": [
    {
     "data": {
      "text/plain": [
       "0"
      ]
     },
     "execution_count": 9,
     "metadata": {},
     "output_type": "execute_result"
    }
   ],
   "source": [
    "#Executes SQL DROP statement\n",
    "cursor.execute('DROP TABLE IF EXISTS Crashes_Table.laws;')"
   ]
  },
  {
   "cell_type": "code",
   "execution_count": 10,
   "id": "af70574a",
   "metadata": {},
   "outputs": [
    {
     "data": {
      "text/plain": [
       "0"
      ]
     },
     "execution_count": 10,
     "metadata": {},
     "output_type": "execute_result"
    }
   ],
   "source": [
    "#Executes SQL CREATE statement\n",
    "cursor.execute('CREATE TABLE IF NOT EXISTS Crashes_Table.laws(Code varchar(10) primary key, Description text);')"
   ]
  },
  {
   "cell_type": "code",
   "execution_count": 11,
   "id": "48a5c972",
   "metadata": {},
   "outputs": [
    {
     "data": {
      "text/plain": [
       "array(['21000',\n",
       "       '  Wherever in this division \\x93department\\x94 occurs, it means the Department of the California Highway Patrol.\\n'],\n",
       "      dtype=object)"
      ]
     },
     "execution_count": 11,
     "metadata": {},
     "output_type": "execute_result"
    }
   ],
   "source": [
    "df.to_numpy()[0]"
   ]
  },
  {
   "cell_type": "code",
   "execution_count": 12,
   "id": "0ec9233a",
   "metadata": {},
   "outputs": [
    {
     "data": {
      "text/plain": [
       "5"
      ]
     },
     "execution_count": 12,
     "metadata": {},
     "output_type": "execute_result"
    }
   ],
   "source": [
    "len(df.to_numpy()[0][0])"
   ]
  },
  {
   "cell_type": "code",
   "execution_count": 13,
   "id": "ab6bd982",
   "metadata": {},
   "outputs": [
    {
     "name": "stdout",
     "output_type": "stream",
     "text": [
      "(1406, \"Data too long for column 'Code' at row 1\")\n",
      "(1062, \"Duplicate entry '21362.5' for key 'laws.PRIMARY'\")\n",
      "(1406, \"Data too long for column 'Code' at row 1\")\n",
      "(1062, \"Duplicate entry '21455.5' for key 'laws.PRIMARY'\")\n"
     ]
    }
   ],
   "source": [
    "#Executes SQL INSERT statement\n",
    "for row in df.to_numpy():\n",
    "    #row = [str(x) for x in row]\n",
    "    row = [str(x) for x in row]\n",
    "    # print(row)\n",
    "    r = [row[0],row[1]]\n",
    "    #print(type(r))\n",
    "    \n",
    "    try:\n",
    "        cursor.execute('INSERT INTO Crashes_Table.laws VALUES (%s,%s)',r)\n",
    "    except Exception as e:\n",
    "        print(e)\n",
    "    \n",
    "    \n",
    "\n",
    "database.commit()    \n",
    "    "
   ]
  },
  {
   "cell_type": "code",
   "execution_count": 7,
   "id": "a058ab66-bb85-43b0-ad11-623197840bc2",
   "metadata": {},
   "outputs": [
    {
     "data": {
      "text/plain": [
       "59879"
      ]
     },
     "execution_count": 7,
     "metadata": {},
     "output_type": "execute_result"
    }
   ],
   "source": [
    "cursor.execute('SELECT * FROM Crashes_Table.Factors')"
   ]
  },
  {
   "cell_type": "code",
   "execution_count": null,
   "id": "f2f41561-4eb3-4f82-b3fe-13b03c9242f2",
   "metadata": {},
   "outputs": [],
   "source": []
  }
 ],
 "metadata": {
  "kernelspec": {
   "display_name": "Python 3 (ipykernel)",
   "language": "python",
   "name": "python3"
  },
  "language_info": {
   "codemirror_mode": {
    "name": "ipython",
    "version": 3
   },
   "file_extension": ".py",
   "mimetype": "text/x-python",
   "name": "python",
   "nbconvert_exporter": "python",
   "pygments_lexer": "ipython3",
   "version": "3.9.13"
  }
 },
 "nbformat": 4,
 "nbformat_minor": 5
}
