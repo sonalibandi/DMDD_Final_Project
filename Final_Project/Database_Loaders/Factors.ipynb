{
 "cells": [
  {
   "cell_type": "code",
   "execution_count": 1,
   "id": "677a9e14",
   "metadata": {},
   "outputs": [],
   "source": [
    "import pymysql\n",
    "pymysql.install_as_MySQLdb()\n",
    "import MySQLdb"
   ]
  },
  {
   "cell_type": "code",
   "execution_count": 2,
   "id": "9d78f9b4",
   "metadata": {},
   "outputs": [],
   "source": [
    "from venv import create\n",
    "import csv\n",
    "import pandas as pd\n",
    "import os\n",
    "import time\n",
    "import numpy as np"
   ]
  },
  {
   "cell_type": "code",
   "execution_count": 3,
   "id": "9b7fcb1b",
   "metadata": {},
   "outputs": [
    {
     "data": {
      "text/html": [
       "<div>\n",
       "<style scoped>\n",
       "    .dataframe tbody tr th:only-of-type {\n",
       "        vertical-align: middle;\n",
       "    }\n",
       "\n",
       "    .dataframe tbody tr th {\n",
       "        vertical-align: top;\n",
       "    }\n",
       "\n",
       "    .dataframe thead th {\n",
       "        text-align: right;\n",
       "    }\n",
       "</style>\n",
       "<table border=\"1\" class=\"dataframe\">\n",
       "  <thead>\n",
       "    <tr style=\"text-align: right;\">\n",
       "      <th></th>\n",
       "      <th>CrashName</th>\n",
       "      <th>TimeStamp</th>\n",
       "      <th>Weather</th>\n",
       "      <th>RoadwaySurface</th>\n",
       "      <th>RoadwayCondition</th>\n",
       "      <th>Lighting</th>\n",
       "    </tr>\n",
       "  </thead>\n",
       "  <tbody>\n",
       "    <tr>\n",
       "      <th>0</th>\n",
       "      <td>CR-0000089828</td>\n",
       "      <td>2/19/22</td>\n",
       "      <td>Clear</td>\n",
       "      <td>Dry</td>\n",
       "      <td>No Unusual Conditions</td>\n",
       "      <td>Dark - No Street Light</td>\n",
       "    </tr>\n",
       "    <tr>\n",
       "      <th>1</th>\n",
       "      <td>CR-0000090339</td>\n",
       "      <td>4/7/22</td>\n",
       "      <td>Clear</td>\n",
       "      <td>Dry</td>\n",
       "      <td>No Unusual Conditions</td>\n",
       "      <td>Daylight</td>\n",
       "    </tr>\n",
       "    <tr>\n",
       "      <th>2</th>\n",
       "      <td>CR-0000090341</td>\n",
       "      <td>4/16/22</td>\n",
       "      <td>Rain</td>\n",
       "      <td>Wet</td>\n",
       "      <td>No Unusual Conditions</td>\n",
       "      <td>Dark - Street Light</td>\n",
       "    </tr>\n",
       "    <tr>\n",
       "      <th>3</th>\n",
       "      <td>CR-0000090539</td>\n",
       "      <td>3/2/22</td>\n",
       "      <td>Clear</td>\n",
       "      <td>Dry</td>\n",
       "      <td>No Unusual Conditions</td>\n",
       "      <td>Daylight</td>\n",
       "    </tr>\n",
       "    <tr>\n",
       "      <th>4</th>\n",
       "      <td>CR-0000090540</td>\n",
       "      <td>5/4/22</td>\n",
       "      <td>Clear</td>\n",
       "      <td>Dry</td>\n",
       "      <td>No Unusual Conditions</td>\n",
       "      <td>Dark - Street Light</td>\n",
       "    </tr>\n",
       "  </tbody>\n",
       "</table>\n",
       "</div>"
      ],
      "text/plain": [
       "       CrashName TimeStamp Weather RoadwaySurface       RoadwayCondition  \\\n",
       "0  CR-0000089828   2/19/22   Clear            Dry  No Unusual Conditions   \n",
       "1  CR-0000090339    4/7/22   Clear            Dry  No Unusual Conditions   \n",
       "2  CR-0000090341   4/16/22    Rain            Wet  No Unusual Conditions   \n",
       "3  CR-0000090539    3/2/22   Clear            Dry  No Unusual Conditions   \n",
       "4  CR-0000090540    5/4/22   Clear            Dry  No Unusual Conditions   \n",
       "\n",
       "                 Lighting  \n",
       "0  Dark - No Street Light  \n",
       "1                Daylight  \n",
       "2     Dark - Street Light  \n",
       "3                Daylight  \n",
       "4     Dark - Street Light  "
      ]
     },
     "execution_count": 3,
     "metadata": {},
     "output_type": "execute_result"
    }
   ],
   "source": [
    "import mysql.connector\n",
    "import pandas as pd\n",
    "fdata = pd.read_csv('/Users/sonalibandi/Documents/DMDD/Factors_table_final.csv', index_col=False, delimiter = ',')\n",
    "fdata.head()"
   ]
  },
  {
   "cell_type": "code",
   "execution_count": 4,
   "id": "2574fa52",
   "metadata": {},
   "outputs": [],
   "source": [
    "database = MySQLdb.connect (host=\"localhost\" , user=\"root\" , passwd=\"rootroot\" ,db=\"a1\")\n",
    "cursor = database.cursor()"
   ]
  },
  {
   "cell_type": "code",
   "execution_count": 5,
   "id": "5152118b",
   "metadata": {},
   "outputs": [
    {
     "data": {
      "text/plain": [
       "0"
      ]
     },
     "execution_count": 5,
     "metadata": {},
     "output_type": "execute_result"
    }
   ],
   "source": [
    "cursor.execute('DROP TABLE IF EXISTS a1.Factors;')"
   ]
  },
  {
   "cell_type": "code",
   "execution_count": 6,
   "id": "1488b96e",
   "metadata": {},
   "outputs": [
    {
     "data": {
      "text/plain": [
       "0"
      ]
     },
     "execution_count": 6,
     "metadata": {},
     "output_type": "execute_result"
    }
   ],
   "source": [
    "cursor.execute('CREATE TABLE IF NOT EXISTS a1.Factors(Crashname varchar(50), Date date, Weather varchar(50), RoadwaySurface varchar(50), RoadwayCondition varchar(50), Lighting varchar(50));')\n"
   ]
  },
  {
   "cell_type": "code",
   "execution_count": 8,
   "id": "455b3828",
   "metadata": {},
   "outputs": [],
   "source": [
    "df = pd.read_csv('/Users/sonalibandi/Documents/DMDD/Factors_table_final.csv',  delimiter = ',')\n",
    "df.head()\n",
    "for row in df.to_numpy():\n",
    "    r = [row[0],row[1],row[2],row[3],row[4],row[5]]\n",
    "    try:\n",
    "        cursor.execute('INSERT INTO a1.Factors VALUES (%s,%s,%s,%s,%s,%s)',r)\n",
    "    except Exception as e:\n",
    "        pass\n",
    "        \n",
    "database.commit()   "
   ]
  },
  {
   "cell_type": "markdown",
   "id": "7d36e80d-7b26-46cf-a5ad-719bb3df80b0",
   "metadata": {},
   "source": [
    "# "
   ]
  }
 ],
 "metadata": {
  "kernelspec": {
   "display_name": "Python 3 (ipykernel)",
   "language": "python",
   "name": "python3"
  },
  "language_info": {
   "codemirror_mode": {
    "name": "ipython",
    "version": 3
   },
   "file_extension": ".py",
   "mimetype": "text/x-python",
   "name": "python",
   "nbconvert_exporter": "python",
   "pygments_lexer": "ipython3",
   "version": "3.9.13"
  }
 },
 "nbformat": 4,
 "nbformat_minor": 5
}
