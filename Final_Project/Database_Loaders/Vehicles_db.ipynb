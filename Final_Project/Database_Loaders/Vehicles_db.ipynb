{
 "cells": [
  {
   "cell_type": "code",
   "execution_count": 1,
   "id": "eb46f6aa",
   "metadata": {},
   "outputs": [],
   "source": [
    "#Installs MySQL connector module\n",
    "import pymysql\n",
    "pymysql.install_as_MySQLdb()\n",
    "import MySQLdb"
   ]
  },
  {
   "cell_type": "code",
   "execution_count": 2,
   "id": "6f12b287",
   "metadata": {},
   "outputs": [],
   "source": [
    "from venv import create\n",
    "import csv\n",
    "import pandas as pd\n",
    "import os\n",
    "import time\n",
    "import numpy as np"
   ]
  },
  {
   "cell_type": "code",
   "execution_count": 3,
   "id": "af074dde",
   "metadata": {},
   "outputs": [
    {
     "data": {
      "text/html": [
       "<div>\n",
       "<style scoped>\n",
       "    .dataframe tbody tr th:only-of-type {\n",
       "        vertical-align: middle;\n",
       "    }\n",
       "\n",
       "    .dataframe tbody tr th {\n",
       "        vertical-align: top;\n",
       "    }\n",
       "\n",
       "    .dataframe thead th {\n",
       "        text-align: right;\n",
       "    }\n",
       "</style>\n",
       "<table border=\"1\" class=\"dataframe\">\n",
       "  <thead>\n",
       "    <tr style=\"text-align: right;\">\n",
       "      <th></th>\n",
       "      <th>Name</th>\n",
       "      <th>CrashName</th>\n",
       "      <th>Sex</th>\n",
       "      <th>Age</th>\n",
       "      <th>VehicleDamage</th>\n",
       "      <th>PartyCategory</th>\n",
       "      <th>Sobriety</th>\n",
       "      <th>VehicleDirection</th>\n",
       "      <th>MovementPrecedingCollision</th>\n",
       "      <th>ViolationCode</th>\n",
       "    </tr>\n",
       "  </thead>\n",
       "  <tbody>\n",
       "    <tr>\n",
       "      <th>0</th>\n",
       "      <td>ACV-0000174429</td>\n",
       "      <td>CR-0000085218</td>\n",
       "      <td>M</td>\n",
       "      <td>19</td>\n",
       "      <td>Major</td>\n",
       "      <td>Driver</td>\n",
       "      <td>Had Not Been Drinking</td>\n",
       "      <td>East</td>\n",
       "      <td>Proceeding Straight</td>\n",
       "      <td>23103</td>\n",
       "    </tr>\n",
       "    <tr>\n",
       "      <th>1</th>\n",
       "      <td>ACV-0000174443</td>\n",
       "      <td>CR-0000085224</td>\n",
       "      <td>F</td>\n",
       "      <td>43</td>\n",
       "      <td>Minor</td>\n",
       "      <td>Driver</td>\n",
       "      <td>Had Not Been Drinking</td>\n",
       "      <td>East</td>\n",
       "      <td>Entering Traffic</td>\n",
       "      <td>21804</td>\n",
       "    </tr>\n",
       "    <tr>\n",
       "      <th>2</th>\n",
       "      <td>ACV-0000174444</td>\n",
       "      <td>CR-0000085224</td>\n",
       "      <td>F</td>\n",
       "      <td>51</td>\n",
       "      <td>Minor</td>\n",
       "      <td>Driver</td>\n",
       "      <td>Had Not Been Drinking</td>\n",
       "      <td>South</td>\n",
       "      <td>Proceeding Straight</td>\n",
       "      <td>Not Applicable</td>\n",
       "    </tr>\n",
       "    <tr>\n",
       "      <th>3</th>\n",
       "      <td>ACV-0000174445</td>\n",
       "      <td>CR-0000085225</td>\n",
       "      <td>M</td>\n",
       "      <td>21</td>\n",
       "      <td>Moderate</td>\n",
       "      <td>Driver</td>\n",
       "      <td>Had Been Drinking - Impairment Unknown</td>\n",
       "      <td>West</td>\n",
       "      <td>Making Left Turn</td>\n",
       "      <td>22350</td>\n",
       "    </tr>\n",
       "    <tr>\n",
       "      <th>4</th>\n",
       "      <td>ACV-0000174446</td>\n",
       "      <td>CR-0000085225</td>\n",
       "      <td>M</td>\n",
       "      <td>53</td>\n",
       "      <td>Major</td>\n",
       "      <td>Driver</td>\n",
       "      <td>Had Not Been Drinking</td>\n",
       "      <td>East</td>\n",
       "      <td>Proceeding Straight</td>\n",
       "      <td>Not Applicable</td>\n",
       "    </tr>\n",
       "  </tbody>\n",
       "</table>\n",
       "</div>"
      ],
      "text/plain": [
       "             Name      CrashName Sex  Age VehicleDamage PartyCategory  \\\n",
       "0  ACV-0000174429  CR-0000085218   M   19         Major        Driver   \n",
       "1  ACV-0000174443  CR-0000085224   F   43         Minor        Driver   \n",
       "2  ACV-0000174444  CR-0000085224   F   51         Minor        Driver   \n",
       "3  ACV-0000174445  CR-0000085225   M   21      Moderate        Driver   \n",
       "4  ACV-0000174446  CR-0000085225   M   53         Major        Driver   \n",
       "\n",
       "                                 Sobriety VehicleDirection  \\\n",
       "0                   Had Not Been Drinking             East   \n",
       "1                   Had Not Been Drinking             East   \n",
       "2                   Had Not Been Drinking            South   \n",
       "3  Had Been Drinking - Impairment Unknown             West   \n",
       "4                   Had Not Been Drinking             East   \n",
       "\n",
       "  MovementPrecedingCollision   ViolationCode  \n",
       "0        Proceeding Straight           23103  \n",
       "1           Entering Traffic           21804  \n",
       "2        Proceeding Straight  Not Applicable  \n",
       "3           Making Left Turn           22350  \n",
       "4        Proceeding Straight  Not Applicable  "
      ]
     },
     "execution_count": 3,
     "metadata": {},
     "output_type": "execute_result"
    }
   ],
   "source": [
    "#The connect() constructor creates a connection to the MySQL server and returns a MySQLConnection object. \n",
    "import mysql.connector\n",
    "import pandas as pd\n",
    "vdata = pd.read_csv('/Users/sonalibandi/Documents/DMDD/vehicles_f.csv', index_col=False, delimiter = ',')\n",
    "vdata.head()"
   ]
  },
  {
   "cell_type": "code",
   "execution_count": 4,
   "id": "92a49f79",
   "metadata": {},
   "outputs": [],
   "source": [
    "# Connect\n",
    "database = MySQLdb.connect (host=\"localhost\" , user=\"root\" , passwd=\"rootroot\" ,db=\"a1\")\n",
    "cursor = database.cursor()"
   ]
  },
  {
   "cell_type": "code",
   "execution_count": 5,
   "id": "95fbaf10",
   "metadata": {},
   "outputs": [
    {
     "data": {
      "text/plain": [
       "0"
      ]
     },
     "execution_count": 5,
     "metadata": {},
     "output_type": "execute_result"
    }
   ],
   "source": [
    "#Executes SQL DROP statement\n",
    "cursor.execute('DROP TABLE IF EXISTS Crashes_Table.Vehicles;')"
   ]
  },
  {
   "cell_type": "code",
   "execution_count": 6,
   "id": "f42c4923",
   "metadata": {},
   "outputs": [
    {
     "data": {
      "text/plain": [
       "0"
      ]
     },
     "execution_count": 6,
     "metadata": {},
     "output_type": "execute_result"
    }
   ],
   "source": [
    "#Executes SQL select statement\n",
    "cursor.execute('CREATE TABLE IF NOT EXISTS Crashes_Table.Vehicles(Name varchar(50) primary key, Crashname varchar(50), Sex varchar(10), Age int, VehicleDamage varchar(50), PartyCategory varchar(50), Sobriety varchar(50), VehicleDirection varchar(50), MovementPrecedingCollision varchar(50), ViolationCode varchar(50), FOREIGN KEY (Crashname) REFERENCES Crashes(Name));')\n"
   ]
  },
  {
   "cell_type": "code",
   "execution_count": 7,
   "id": "3fb2e753",
   "metadata": {},
   "outputs": [],
   "source": [
    "#Executes SQL INSERT statement\n",
    "for row in vdata.to_numpy():\n",
    "    r = [row[0],row[1],row[2],row[3],row[4],row[5],row[6],row[7],row[8],row[9]]\n",
    "    try:\n",
    "        cursor.execute('INSERT INTO Crashes_Table.Vehicles VALUES (%s,%s,%s,%s,%s,%s,%s,%s,%s,%s)',r)\n",
    "    except Exception as e:\n",
    "        pass\n",
    "        \n",
    "database.commit() "
   ]
  },
  {
   "cell_type": "code",
   "execution_count": null,
   "id": "cff16c99",
   "metadata": {},
   "outputs": [],
   "source": []
  }
 ],
 "metadata": {
  "kernelspec": {
   "display_name": "Python 3 (ipykernel)",
   "language": "python",
   "name": "python3"
  },
  "language_info": {
   "codemirror_mode": {
    "name": "ipython",
    "version": 3
   },
   "file_extension": ".py",
   "mimetype": "text/x-python",
   "name": "python",
   "nbconvert_exporter": "python",
   "pygments_lexer": "ipython3",
   "version": "3.9.13"
  }
 },
 "nbformat": 4,
 "nbformat_minor": 5
}
